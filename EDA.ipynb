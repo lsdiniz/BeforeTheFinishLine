{
  "nbformat": 4,
  "nbformat_minor": 0,
  "metadata": {
    "colab": {
      "provenance": [],
      "mount_file_id": "1AFmNMzH1NSks5_vKY9IUTC5d7pRkUNcx",
      "authorship_tag": "ABX9TyOX01ez2e+HEHj5kScSmeFF",
      "include_colab_link": true
    },
    "kernelspec": {
      "name": "python3",
      "display_name": "Python 3"
    },
    "language_info": {
      "name": "python"
    }
  },
  "cells": [
    {
      "cell_type": "markdown",
      "metadata": {
        "id": "view-in-github",
        "colab_type": "text"
      },
      "source": [
        "<a href=\"https://colab.research.google.com/github/lsdiniz/BeforeTheFinishLine/blob/main/EDA.ipynb\" target=\"_parent\"><img src=\"https://colab.research.google.com/assets/colab-badge.svg\" alt=\"Open In Colab\"/></a>"
      ]
    },
    {
      "cell_type": "markdown",
      "source": [
        "#EDA Before The Finish Line\n",
        "This Data Science project in the context of Formula 1 aims to leverage advanced analytical techniques and machine learning algorithms to uncover the determinants of race victories, quantify the probability of a driver's success in a given Grand Prix, and provide actionable insights to key stakeholders in the world of motorsports."
      ],
      "metadata": {
        "id": "ErOl_sLGiiRC"
      }
    },
    {
      "cell_type": "code",
      "execution_count": 7,
      "metadata": {
        "colab": {
          "base_uri": "https://localhost:8080/"
        },
        "id": "YWGuVjFY3U-r",
        "outputId": "275ce073-a840-4273-960a-4b014fbe3742"
      },
      "outputs": [
        {
          "output_type": "stream",
          "name": "stdout",
          "text": [
            "Drive already mounted at /content/drive; to attempt to forcibly remount, call drive.mount(\"/content/drive\", force_remount=True).\n"
          ]
        }
      ],
      "source": [
        "import pandas as pd\n",
        "import numpy as np\n",
        "import seaborn as sns\n",
        "from seaborn import lmplot\n",
        "import matplotlib.pyplot as plt\n",
        "import matplotlib.style as style\n",
        "from google.colab import drive\n",
        "drive.mount('/content/drive')"
      ]
    },
    {
      "cell_type": "code",
      "source": [
        "circuits = pd.read_csv('/content/drive/MyDrive/Data Science - 2023/BeforeTheFinishLine/datasets/circuits.csv', encoding=\"latin-1\")\n",
        "constructor_results = pd.read_csv('/content/drive/MyDrive/Data Science - 2023/BeforeTheFinishLine/datasets/constructor_results.csv', encoding=\"latin-1\")\n",
        "constructor_standings = pd.read_csv('/content/drive/MyDrive/Data Science - 2023/BeforeTheFinishLine/datasets/constructor_standings.csv', encoding=\"latin-1\")\n",
        "constructor = pd.read_csv('/content/drive/MyDrive/Data Science - 2023/BeforeTheFinishLine/datasets/constructors.csv', encoding=\"latin-1\")\n",
        "driver_standings = pd.read_csv('/content/drive/MyDrive/Data Science - 2023/BeforeTheFinishLine/datasets/driver_standings.csv', encoding=\"latin-1\")\n",
        "drivers = pd.read_csv('/content/drive/MyDrive/Data Science - 2023/BeforeTheFinishLine/datasets/drivers.csv', encoding=\"latin-1\")\n",
        "lap_times = pd.read_csv('/content/drive/MyDrive/Data Science - 2023/BeforeTheFinishLine/datasets/lap_times.csv', encoding=\"latin-1\")\n",
        "pit_stops = pd.read_csv('/content/drive/MyDrive/Data Science - 2023/BeforeTheFinishLine/datasets/pit_stops.csv', encoding=\"latin-1\")\n",
        "qualifying = pd.read_csv('/content/drive/MyDrive/Data Science - 2023/BeforeTheFinishLine/datasets/qualifying.csv', encoding=\"latin-1\")\n",
        "races = pd.read_csv('/content/drive/MyDrive/Data Science - 2023/BeforeTheFinishLine/datasets/races.csv', encoding=\"latin-1\")\n",
        "results = pd.read_csv('/content/drive/MyDrive/Data Science - 2023/BeforeTheFinishLine/datasets/results.csv', encoding=\"latin-1\")\n",
        "seasons = pd.read_csv('/content/drive/MyDrive/Data Science - 2023/BeforeTheFinishLine/datasets/seasons.csv', encoding=\"latin-1\")\n",
        "sprint_results = pd.read_csv('/content/drive/MyDrive/Data Science - 2023/BeforeTheFinishLine/datasets/sprint_results.csv', encoding=\"latin-1\")\n",
        "status = pd.read_csv('/content/drive/MyDrive/Data Science - 2023/BeforeTheFinishLine/datasets/status.csv', encoding=\"latin-1\")"
      ],
      "metadata": {
        "id": "OyjItrW2-cFS"
      },
      "execution_count": 6,
      "outputs": []
    },
    {
      "cell_type": "markdown",
      "source": [
        "#Exporação de dados"
      ],
      "metadata": {
        "id": "Bx47zaYd5o8x"
      }
    }
  ]
}